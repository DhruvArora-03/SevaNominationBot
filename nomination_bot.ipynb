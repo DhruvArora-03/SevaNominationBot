{
 "cells": [
  {
   "cell_type": "code",
   "execution_count": null,
   "metadata": {},
   "outputs": [
    {
     "name": "stdout",
     "output_type": "stream",
     "text": [
      "pyautogui size: Size(width=1920, height=1080)\n"
     ]
    }
   ],
   "source": [
    "import pyautogui\n",
    "from time import sleep\n",
    "print('pyautogui size:', pyautogui.size())\n",
    "sleep(2) # let me switch to chrome"
   ]
  },
  {
   "cell_type": "code",
   "execution_count": null,
   "metadata": {},
   "outputs": [],
   "source": [
    "for _ in range(200):\n",
    "    # navigate to nomination site\n",
    "    pyautogui.moveTo(524, 64)\n",
    "    pyautogui.tripleClick()\n",
    "    pyautogui.typewrite('https://umove.nike.com/ut/seva-charities')\n",
    "    pyautogui.typewrite(['enter'])\n",
    "    sleep(2)\n",
    "\n",
    "    # move to search result and click\n",
    "    pyautogui.moveTo(958, 907)\n",
    "    pyautogui.click()\n",
    "\n",
    "    # wait for it to load\n",
    "    sleep(2)\n",
    "\n",
    "    pyautogui.click()\n"
   ]
  }
 ],
 "metadata": {
  "kernelspec": {
   "display_name": "Python 3 (ipykernel)",
   "language": "python",
   "name": "python3"
  },
  "language_info": {
   "codemirror_mode": {
    "name": "ipython",
    "version": 3
   },
   "file_extension": ".py",
   "mimetype": "text/x-python",
   "name": "python",
   "nbconvert_exporter": "python",
   "pygments_lexer": "ipython3",
   "version": "3.10.8"
  },
  "orig_nbformat": 4
 },
 "nbformat": 4,
 "nbformat_minor": 2
}

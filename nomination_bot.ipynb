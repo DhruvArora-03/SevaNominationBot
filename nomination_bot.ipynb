{
 "cells": [
  {
   "cell_type": "markdown",
   "metadata": {},
   "source": [
    "import pyautogui\n",
    "from time import sleep\n",
    "print('pyautogui size:', pyautogui.size())\n",
    "sleep(2) # let me switch to chrome"
   ]
  },
  {
   "cell_type": "code",
   "execution_count": null,
   "metadata": {},
   "outputs": [
    {
     "name": "stdout",
     "output_type": "stream",
     "text": [
      "pyautogui size: Size(width=1920, height=1080)\n"
     ]
    }
   ],
   "source": [
    "import pyautogui\n",
    "from time import sleep\n",
    "print('pyautogui size:', pyautogui.size())\n",
    "sleep(2) # let me switch to chrome"
   ]
  },
  {
   "cell_type": "code",
   "execution_count": null,
   "metadata": {},
   "outputs": [],
   "source": []
  },
  {
   "cell_type": "code",
   "execution_count": 8,
   "metadata": {},
   "outputs": [
    {
     "ename": "",
     "evalue": "",
     "output_type": "error",
     "traceback": [
      "\u001b[1;31mCanceled future for execute_request message before replies were done"
     ]
    },
    {
     "ename": "",
     "evalue": "",
     "output_type": "error",
     "traceback": [
      "\u001b[1;31mThe Kernel crashed while executing code in the the current cell or a previous cell. Please review the code in the cell(s) to identify a possible cause of the failure. Click <a href='https://aka.ms/vscodeJupyterKernelCrash'>here</a> for more info. View Jupyter <a href='command:jupyter.viewOutput'>log</a> for further details."
     ]
    }
   ],
   "source": [
    "for _ in range(200):\n",
    "    # navigate to nomination site\n",
    "    pyautogui.moveTo(524, 64)\n",
    "    pyautogui.tripleClick()\n",
    "    pyautogui.typewrite('https://umove.nike.com/ut/seva-charities')\n",
    "    pyautogui.typewrite(['enter'])\n",
    "    sleep(2)\n",
    "\n",
    "    # move to search result and click\n",
    "    pyautogui.moveTo(958, 907)\n",
    "    pyautogui.click()\n",
    "\n",
    "    # wait for it to load\n",
    "    sleep(2)\n",
    "\n",
    "    pyautogui.click()\n"
   ]
  },
  {
   "cell_type": "code",
   "execution_count": null,
   "metadata": {},
   "outputs": [],
   "source": [
    "\n",
    "    # move to search bar\n",
    "    # pyautogui.moveTo(933, 784, duration=0.5)\n",
    "    # sleep(1)\n",
    "    # pyautogui.scroll(-20)\n",
    "    # sleep(1)\n",
    "\n",
    "    # click bar\n",
    "    # pyautogui.click()\n",
    "    # pyautogui.click()\n",
    "    # pyautogui.click()\n",
    "    # sleep(.5)\n",
    "\n",
    "    # type\n",
    "    # pyautogui.typewrite(\"Seva Charities\", interval=.1)\n",
    "\n",
    "    # wait for it to load\n",
    "    # sleep(1.5)\n"
   ]
  }
 ],
 "metadata": {
  "kernelspec": {
   "display_name": "Python 3 (ipykernel)",
   "language": "python",
   "name": "python3"
  },
  "language_info": {
   "codemirror_mode": {
    "name": "ipython",
    "version": 3
   },
   "file_extension": ".py",
   "mimetype": "text/x-python",
   "name": "python",
   "nbconvert_exporter": "python",
   "pygments_lexer": "ipython3",
   "version": "3.10.8"
  },
  "orig_nbformat": 4
 },
 "nbformat": 4,
 "nbformat_minor": 2
}
